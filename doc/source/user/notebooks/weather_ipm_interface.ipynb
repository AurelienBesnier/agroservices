{
 "cells": [
  {
   "cell_type": "markdown",
   "metadata": {},
   "source": [
    "# Weather Service IPM Interface"
   ]
  },
  {
   "cell_type": "code",
   "execution_count": null,
   "metadata": {},
   "outputs": [],
   "source": [
    "from openalea.agroservices.ipm.ipm import IPM\n",
    "from openalea.agroservices.ipm.datadir import datadir\n",
    "\n",
    "ipm = IPM()"
   ]
  },
  {
   "cell_type": "markdown",
   "metadata": {},
   "source": [
    "## MetaDataServices"
   ]
  },
  {
   "cell_type": "markdown",
   "metadata": {},
   "source": [
    "* Get IPM Platform weather parameters and their description (id, name, description and units)"
   ]
  },
  {
   "cell_type": "code",
   "execution_count": null,
   "metadata": {},
   "outputs": [],
   "source": [
    "ipm.get_parameter()"
   ]
  },
  {
   "cell_type": "markdown",
   "metadata": {},
   "source": [
    "* Get the controle quality informations (id, name and description)"
   ]
  },
  {
   "cell_type": "code",
   "execution_count": null,
   "metadata": {},
   "outputs": [],
   "source": [
    "ipm.get_qc()"
   ]
  },
  {
   "cell_type": "markdown",
   "metadata": {},
   "source": [
    "* Get a schema that describes the IPM Decision platform's format for exchange of weather data"
   ]
  },
  {
   "cell_type": "code",
   "execution_count": null,
   "metadata": {},
   "outputs": [],
   "source": [
    "ipm.get_schema_weatherdata()"
   ]
  },
  {
   "cell_type": "markdown",
   "metadata": {},
   "source": [
    "* Validates the posted weather data against the Json schema"
   ]
  },
  {
   "cell_type": "code",
   "execution_count": null,
   "metadata": {},
   "outputs": [],
   "source": [
    "ipm.post_schema_weatherdata_validate(jsonfile=datadir + \"weather_data.json\")"
   ]
  },
  {
   "cell_type": "markdown",
   "metadata": {},
   "source": [
    "## Weather Adapter Services"
   ]
  },
  {
   "cell_type": "markdown",
   "metadata": {},
   "source": [
    "* Get a list of WeatherAdapterService available on ipm plateform"
   ]
  },
  {
   "cell_type": "code",
   "execution_count": null,
   "metadata": {},
   "outputs": [],
   "source": [
    "ws = ipm.get_weatherdatasource()\n",
    "{k: v[\"description\"] for k, v in ws.items()}"
   ]
  },
  {
   "cell_type": "markdown",
   "metadata": {},
   "source": [
    "* Get weather observations for one weatheradapter service\n",
    "\n",
    "In this example we choose Finnish Meteorological Institute measured data using endpoint='/weatheradapter/fmi/'\n",
    "\n",
    "This weather resource does not need credentials, so credentials is None    \n",
    "ignone= True    \n",
    "interval=3600    \n",
    "parameters = [1002, 3002] to select weather parameters 'Mean air temperature at 2m' and 'Mean RH at 2m' see ipm.get_parameters() function for description    \n",
    "timeStart='2020-06-12T00:00:00+03:00'    \n",
    "timeEnd='2020-07-03T00:00:00+03:00'    \n",
    "weatherStationId=101104"
   ]
  },
  {
   "cell_type": "code",
   "execution_count": null,
   "metadata": {},
   "outputs": [],
   "source": [
    "source = ipm.get_weatherdatasource(\"fi.fmi.observation.station\")\n",
    "ipm.get_weatheradapter(source)"
   ]
  },
  {
   "cell_type": "markdown",
   "metadata": {},
   "source": [
    "<div class=\"alert alert-warning\">\n",
    "\n",
    " Among Weather resource forecast resources are available. When you choose forecast resource thank to use get_weatheradappter_forecast\n",
    "\n",
    "<div>"
   ]
  },
  {
   "cell_type": "code",
   "execution_count": null,
   "metadata": {},
   "outputs": [],
   "source": [
    "source = ipm.get_weatherdatasource(\"no.met.locationforecast\")\n",
    "ipm.get_weatheradapter(source)"
   ]
  },
  {
   "cell_type": "markdown",
   "metadata": {},
   "source": [
    "## WeatherDataService"
   ]
  },
  {
   "cell_type": "markdown",
   "metadata": {},
   "source": [
    "* Get a list of all the available weather data sources"
   ]
  },
  {
   "cell_type": "code",
   "execution_count": null,
   "metadata": {},
   "outputs": [],
   "source": [
    "ipm.get_weatherdatasource().keys()"
   ]
  },
  {
   "cell_type": "markdown",
   "metadata": {},
   "source": [
    "* Search for weather data sources that serve the specific location. The location can by any valid Geometry, such as Point or Polygon. Example GeoJson input "
   ]
  },
  {
   "cell_type": "code",
   "execution_count": null,
   "metadata": {},
   "outputs": [],
   "source": [
    "ipm.post_weatherdatasource_location(tolerance=0, geoJsonfile=datadir + \"GeoJson.json\")"
   ]
  },
  {
   "cell_type": "markdown",
   "metadata": {},
   "source": [
    "* Search for weather data sources that serve the specific point"
   ]
  },
  {
   "cell_type": "code",
   "execution_count": null,
   "metadata": {},
   "outputs": [],
   "source": [
    "ipm.get_weatherdatasource_location_point(\n",
    "    latitude=\"59.678835236960765\", longitude=\"12.01629638671875\", tolerance=0\n",
    ")"
   ]
  }
 ],
 "metadata": {
  "interpreter": {
   "hash": "379e49c1ed74f7fb9ccaefd78513064772fff68d1ede99e74a656040263ee5eb"
  },
  "kernelspec": {
   "display_name": "Python 3 (ipykernel)",
   "language": "python",
   "name": "python3"
  },
  "language_info": {
   "codemirror_mode": {
    "name": "ipython",
    "version": 3
   },
   "file_extension": ".py",
   "mimetype": "text/x-python",
   "name": "python",
   "nbconvert_exporter": "python",
   "pygments_lexer": "ipython3",
   "version": "3.12.8"
  },
  "widgets": {
   "application/vnd.jupyter.widget-state+json": {
    "state": {},
    "version_major": 2,
    "version_minor": 0
   }
  }
 },
 "nbformat": 4,
 "nbformat_minor": 4
}
