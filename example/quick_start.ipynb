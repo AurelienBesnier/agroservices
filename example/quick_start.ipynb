{
 "cells": [
  {
   "cell_type": "markdown",
   "metadata": {},
   "source": [
    "# Quick Start IPM Interface"
   ]
  },
  {
   "cell_type": "markdown",
   "metadata": {},
   "source": [
    "## Activate IPM interface"
   ]
  },
  {
   "cell_type": "code",
   "execution_count": 1,
   "metadata": {},
   "outputs": [
    {
     "data": {
      "text/plain": [
       "dict_keys(['no.met.locationforecast', 'ie.gov.data', 'dk.dmi.pointweather', 'se.slu.lantmet', 'net.ipmdecisions.dwd.forecast.germany', 'net.ipmdecisions.dwd.forecast.europe', 'net.ipmdecisions.dwd.euroweather', 'net.ipmdecisions.meteofrance.forecast', 'fi.fmi.forecast.location', 'fi.fmi.observation.station', 'no.nibio.lmt', 'com.meteobot', 'info.fruitweb', 'net.ipmdecisions.metos', 'fr.meteo-concept.api'])"
      ]
     },
     "execution_count": 1,
     "metadata": {},
     "output_type": "execute_result"
    }
   ],
   "source": [
    "from openalea.agroservices.ipm.ipm import IPM\n",
    "ipm = IPM()    \n",
    "sources = ipm.get_weatherdatasource()\n",
    "sources.keys()"
   ]
  },
  {
   "cell_type": "markdown",
   "metadata": {},
   "source": [
    "## Use a one function describe in References documentation\n",
    "\n",
    "An example of function were used as example here get_weatheradapter "
   ]
  },
  {
   "cell_type": "code",
   "execution_count": 2,
   "metadata": {},
   "outputs": [
    {
     "data": {
      "text/plain": [
       "{'timeStart': '2020-01-01T23:00:00Z',\n",
       " 'timeEnd': '2020-01-02T00:00:00Z',\n",
       " 'interval': 3600,\n",
       " 'weatherParameters': [2001, 1002, 3002],\n",
       " 'locationWeatherData': [{'longitude': 26.36757,\n",
       "   'latitude': 65.97717,\n",
       "   'altitude': 0.0,\n",
       "   'amalgamation': [0, 0, 0],\n",
       "   'data': [[0.1, 2.2, 97.0], [0.1, 2.3, 95.0]],\n",
       "   'length': 2,\n",
       "   'qc': [1, 1, 1],\n",
       "   'width': 3}]}"
      ]
     },
     "execution_count": 2,
     "metadata": {},
     "output_type": "execute_result"
    }
   ],
   "source": [
    "fmi = sources['fi.fmi.observation.station']\n",
    "ipm.get_weatheradapter(fmi)"
   ]
  },
  {
   "cell_type": "code",
   "execution_count": null,
   "metadata": {},
   "outputs": [],
   "source": []
  }
 ],
 "metadata": {
  "interpreter": {
   "hash": "379e49c1ed74f7fb9ccaefd78513064772fff68d1ede99e74a656040263ee5eb"
  },
  "kernelspec": {
   "display_name": "Python 3 (ipykernel)",
   "language": "python",
   "name": "python3"
  },
  "language_info": {
   "codemirror_mode": {
    "name": "ipython",
    "version": 3
   },
   "file_extension": ".py",
   "mimetype": "text/x-python",
   "name": "python",
   "nbconvert_exporter": "python",
   "pygments_lexer": "ipython3",
   "version": "3.8.16"
  }
 },
 "nbformat": 4,
 "nbformat_minor": 2
}
