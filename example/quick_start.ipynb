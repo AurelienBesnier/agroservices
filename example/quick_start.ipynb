{
 "cells": [
  {
   "cell_type": "markdown",
   "metadata": {},
   "source": [
    "# Quick Start IPM Interface"
   ]
  },
  {
   "cell_type": "markdown",
   "metadata": {},
   "source": [
    "## Activate IPM interface"
   ]
  },
  {
   "cell_type": "code",
   "execution_count": null,
   "metadata": {},
   "outputs": [],
   "source": [
    "from openalea.agroservices.ipm import IPM\n",
    "\n",
    "ipm = IPM()\n",
    "sources = ipm.get_weatherdatasource()\n",
    "sources.keys()"
   ]
  },
  {
   "cell_type": "markdown",
   "metadata": {},
   "source": [
    "## Use a one function describe in References documentation\n",
    "\n",
    "An example of function were used as example here get_weatheradapter "
   ]
  },
  {
   "cell_type": "code",
   "execution_count": null,
   "metadata": {},
   "outputs": [],
   "source": [
    "fmi = sources[\"fi.fmi.observation.station\"]\n",
    "ipm.get_weatheradapter(fmi)"
   ]
  }
 ],
 "metadata": {
  "interpreter": {
   "hash": "379e49c1ed74f7fb9ccaefd78513064772fff68d1ede99e74a656040263ee5eb"
  },
  "kernelspec": {
   "display_name": "Python 3 (ipykernel)",
   "language": "python",
   "name": "python3"
  },
  "language_info": {
   "codemirror_mode": {
    "name": "ipython",
    "version": 3
   },
   "file_extension": ".py",
   "mimetype": "text/x-python",
   "name": "python",
   "nbconvert_exporter": "python",
   "pygments_lexer": "ipython3",
   "version": "3.12.8"
  },
  "widgets": {
   "application/vnd.jupyter.widget-state+json": {
    "state": {},
    "version_major": 2,
    "version_minor": 0
   }
  }
 },
 "nbformat": 4,
 "nbformat_minor": 4
}
